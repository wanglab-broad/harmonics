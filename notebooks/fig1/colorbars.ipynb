{
 "cells": [
  {
   "cell_type": "code",
   "execution_count": 1,
   "metadata": {},
   "outputs": [],
   "source": [
    "import os\n",
    "import matplotlib.pyplot as plt\n",
    "import matplotlib as mpl\n",
    "import numpy as np"
   ]
  },
  {
   "cell_type": "code",
   "execution_count": 2,
   "metadata": {},
   "outputs": [],
   "source": [
    "figpath = '/stanley/WangLab/kamal/figures/projects/manifesto/schematic/'\n",
    "os.makedirs(figpath, exist_ok=True)\n",
    "dpi = 500"
   ]
  },
  {
   "cell_type": "code",
   "execution_count": 5,
   "metadata": {},
   "outputs": [
    {
     "data": {
      "image/png": "[encoded data removed]",
      "text/plain": [
       "<Figure size 40x800 with 1 Axes>"
      ]
     },
     "metadata": {},
     "output_type": "display_data"
    }
   ],
   "source": [
    "fig, ax = plt.subplots(figsize=(0.4,8), layout='constrained')\n",
    "\n",
    "cmap = mpl.cm.Greys_r\n",
    "norm = None\n",
    "\n",
    "fig.colorbar(mpl.cm.ScalarMappable(norm=norm, cmap=cmap),\n",
    "             cax=ax, orientation='vertical', label='')\n",
    "\n",
    "plt.grid(None)\n",
    "plt.gca().set_yticks(np.arange(0,1.1,1), ['']*2)\n",
    "\n",
    "figname = 'colorbar_greys.png'\n",
    "savepath = os.path.join(figpath, figname)\n",
    "plt.savefig(savepath, dpi=dpi)"
   ]
  },
  {
   "cell_type": "code",
   "execution_count": 4,
   "metadata": {},
   "outputs": [
    {
     "data": {
      "image/png": "[encoded data removed]",
      "text/plain": [
       "<Figure size 40x800 with 1 Axes>"
      ]
     },
     "metadata": {},
     "output_type": "display_data"
    }
   ],
   "source": [
    "fig, ax = plt.subplots(figsize=(0.4,8), layout='constrained')\n",
    "\n",
    "cmap = mpl.cm.RdBu_r\n",
    "norm = None\n",
    "\n",
    "fig.colorbar(mpl.cm.ScalarMappable(norm=norm, cmap=cmap),\n",
    "             cax=ax, orientation='vertical', label='')\n",
    "\n",
    "plt.grid(None)\n",
    "plt.gca().set_yticks(np.arange(0,1.1,1), ['']*2)\n",
    "\n",
    "figname = 'colorbar_rdbu.png'\n",
    "savepath = os.path.join(figpath, figname)\n",
    "plt.savefig(savepath, dpi=dpi)"
   ]
  }
 ],
 "metadata": {
  "kernelspec": {
   "display_name": "Python 3 (ipykernel)",
   "language": "python",
   "name": "python3"
  },
  "language_info": {
   "codemirror_mode": {
    "name": "ipython",
    "version": 3
   },
   "file_extension": ".py",
   "mimetype": "text/x-python",
   "name": "python",
   "nbconvert_exporter": "python",
   "pygments_lexer": "ipython3",
   "version": "3.9.16"
  },
  "orig_nbformat": 4
 },
 "nbformat": 4,
 "nbformat_minor": 2
}
